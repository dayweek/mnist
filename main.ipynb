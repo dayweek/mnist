{
 "cells": [],
 "metadata": {
  "kernelspec": {
   "display_name": "Python 3.10.6 ('venv': venv)",
   "language": "python",
   "name": "python3"
  },
  "language_info": {
   "codemirror_mode": {
    "name": "ipython",
    "version": 3
   },
   "file_extension": ".py",
   "mimetype": "text/x-python",
   "name": "python",
   "nbconvert_exporter": "python",
   "pygments_lexer": "ipython3",
   "version": "3.10.6"
  },
  "vscode": {
   "interpreter": {
    "hash": "5cbc11b00d4e4f207df73153492790d8be30bcfc8edc99e07589488372154a91"
   }
  }
 },
 "nbformat": 4,
 "nbformat_minor": 5
}
